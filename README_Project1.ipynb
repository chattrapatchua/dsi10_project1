{
 "cells": [
  {
   "cell_type": "markdown",
   "metadata": {},
   "source": [
    "## Problem Statement:\n",
    "How to increase the SAT participation rate in the state of Ohio"
   ]
  },
  {
   "cell_type": "markdown",
   "metadata": {},
   "source": [
    "## Data Dictionary\n",
    "|Feature|Type|Dataset|Description|\n",
    "|-------|----|-------|-----------|\n",
    "|State  |*str*|2017/2018 SAT/ACT data|All the states in the US|  \n",
    "|Participation|*float*|2017/2018 SAT/ACT data|The participation rate expressed as a float from 0 to 1, of each state taking part in the SAT/ACT exam, column name in format: test_participation_year; e.g. act_participation_2017\n",
    "|Subject test score for SAT/ACT|*int/float*|2017 SAT/ACT & 2018 SAT data|The average score obtained for the subject for each state, column name format: test_subject_year; e.g sat_math_2018\n",
    "|Total for SAT|*int*|2017/2018 SAT data|The average score from the 2 subtests summed together, column name format: sat_total_year\n",
    "|Composite for ACT|*float*|2017/2018 ACT data|The average of the scores from the 4 subtests, column name format: act_composite_year"
   ]
  },
  {
   "cell_type": "markdown",
   "metadata": {},
   "source": [
    "## Executive Summary\n",
    "- The individual datasets were cleaned and combined into a single dataframe called 'final', and saved in the 'data' folder in this repository as 'final.csv'. \n",
    "- Data visualisation was done to identify trends between variables. A brief list of trends:\n",
    "    - In a certain state, if the state average in a certain testing body's test was relatively high, it generally indicated a relatively low participation rate.\n",
    "    - Participation rate in each state was largely influenced by state legislation.\n",
    "    - A lot of states either require SAT or ACT, as seen in the participation rates histogram.\n",
    "        - High concentrations on the extreme ends of the histogram were thus observed.\n",
    "    - SAT participation from 2017 to 2018 generally followed a strong positive correlation.\n",
    "        - Outliers identified were Colorado, Illinois and Rhode Island, where in 2018 these states changed from requiring ACT to SAT. \n",
    "-  Ohio was chosen as the target state, due to:\n",
    "    - The state requires ACT or SAT already\n",
    "    - Relatively densely populated state\n",
    "    - Recommendations included in the main notebook."
   ]
  }
 ],
 "metadata": {
  "kernelspec": {
   "display_name": "Python 3",
   "language": "python",
   "name": "python3"
  },
  "language_info": {
   "codemirror_mode": {
    "name": "ipython",
    "version": 3
   },
   "file_extension": ".py",
   "mimetype": "text/x-python",
   "name": "python",
   "nbconvert_exporter": "python",
   "pygments_lexer": "ipython3",
   "version": "3.7.3"
  }
 },
 "nbformat": 4,
 "nbformat_minor": 2
}
